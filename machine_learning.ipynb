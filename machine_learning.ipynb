{
 "cells": [
  {
   "cell_type": "code",
   "execution_count": 2,
   "metadata": {},
   "outputs": [
    {
     "data": {
      "application/vnd.jupyter.widget-view+json": {
       "model_id": "fcae28dc3cbd42ab8b4b3a25a5f4aa7e",
       "version_major": 2,
       "version_minor": 0
      },
      "text/plain": [
       "VBox()"
      ]
     },
     "metadata": {},
     "output_type": "display_data"
    },
    {
     "data": {
      "application/vnd.jupyter.widget-view+json": {
       "model_id": "",
       "version_major": 2,
       "version_minor": 0
      },
      "text/plain": [
       "FloatProgress(value=0.0, bar_style='info', description='Progress:', layout=Layout(height='25px', width='50%'),…"
      ]
     },
     "metadata": {},
     "output_type": "display_data"
    }
   ],
   "source": [
    "#import libraries & begin spark session\n",
    "from pyspark.sql import SparkSession\n",
    "from pyspark.sql.functions import *\n",
    "spark = SparkSession.builder.appName('ReadData').getOrCreate()\n",
    "sc = spark.sparkContext\n",
    "from pyspark.sql import HiveContext\n",
    "hive_context = HiveContext(sc)\n",
    "from pyspark.sql import SQLContext\n",
    "from pyspark.sql.functions import desc\n",
    "sqlContext = SQLContext(sc)\n",
    "from pyspark.sql import SQLContext\n",
    "from pyspark.sql.functions import isnan, when, count, col, translate\n",
    "from pyspark.sql.types import IntegerType, FloatType, StringType, TimestampType, DoubleType\n",
    "from pyspark.sql import functions as F\n",
    "from pyspark.sql.functions import when, col, mean, desc, round\n",
    "from pyspark.sql.types import StructType, StructField"
   ]
  },
  {
   "cell_type": "code",
   "execution_count": 3,
   "metadata": {},
   "outputs": [
    {
     "data": {
      "application/vnd.jupyter.widget-view+json": {
       "model_id": "541cfb1c7708491d8d55d6142c84dd4f",
       "version_major": 2,
       "version_minor": 0
      },
      "text/plain": [
       "VBox()"
      ]
     },
     "metadata": {},
     "output_type": "display_data"
    },
    {
     "data": {
      "application/vnd.jupyter.widget-view+json": {
       "model_id": "",
       "version_major": 2,
       "version_minor": 0
      },
      "text/plain": [
       "FloatProgress(value=0.0, bar_style='info', description='Progress:', layout=Layout(height='25px', width='50%'),…"
      ]
     },
     "metadata": {},
     "output_type": "display_data"
    }
   ],
   "source": [
    "#create schema for the projects.csv\n",
    "projects_schema = StructType([\n",
    "    StructField(\"Project ID\", StringType(), True),\n",
    "    StructField(\"School ID\", StringType(), True),\n",
    "    StructField(\"Teacher ID\", StringType(), True),\n",
    "    StructField(\"Teacher Project Posted Sequence\", IntegerType(), True),\n",
    "    StructField(\"Project Type\", StringType(), True),\n",
    "    StructField(\"Project Title\", StringType(), True),\n",
    "    StructField(\"Project Essay\", StringType(), True),\n",
    "    StructField(\"Project Short Description\", StringType(), True),\n",
    "    StructField(\"Project Need Statement\", StringType(), True),\n",
    "    StructField(\"Project Subject Category Tree\", StringType(), True),\n",
    "    StructField(\"Project Subject Subcategory Tree\", StringType(), True),\n",
    "    StructField(\"Project Grade Level Category\", StringType(), True),\n",
    "    StructField(\"Project Resource Category\", StringType(), True),\n",
    "    StructField(\"Project Cost\", DoubleType(), True),\n",
    "    StructField(\"Project Posted Date\", TimestampType(), True),\n",
    "    StructField(\"Project Expiration Date\", TimestampType(), True),\n",
    "    StructField(\"Project Current Status\", StringType(), True),\n",
    "    StructField(\"Project Fully Funded Date\", TimestampType(), True),\n",
    "])"
   ]
  },
  {
   "cell_type": "code",
   "execution_count": 4,
   "metadata": {},
   "outputs": [
    {
     "data": {
      "application/vnd.jupyter.widget-view+json": {
       "model_id": "97d51ca30cbf4261a8994c8c23a7a8ba",
       "version_major": 2,
       "version_minor": 0
      },
      "text/plain": [
       "VBox()"
      ]
     },
     "metadata": {},
     "output_type": "display_data"
    },
    {
     "data": {
      "application/vnd.jupyter.widget-view+json": {
       "model_id": "",
       "version_major": 2,
       "version_minor": 0
      },
      "text/plain": [
       "FloatProgress(value=0.0, bar_style='info', description='Progress:', layout=Layout(height='25px', width='50%'),…"
      ]
     },
     "metadata": {},
     "output_type": "display_data"
    }
   ],
   "source": [
    "#read in all .csv files from s3 bucket\n",
    "donations_df = spark.read.csv(\"s3://donorchoose//Donations.csv\", header =True, inferSchema = True)\n",
    "donors_df = spark.read.csv(\"s3://donorchoose/Donors.csv\", header =True, inferSchema = True)\n",
    "teachers_df = spark.read.csv(\"s3://donorchoose/Teachers.csv\", header =True, inferSchema = True)\n",
    "projects_df = spark.read.csv(\"s3://donorchoose/Projects.csv\", header =True, multiLine = True, schema = projects_schema, escape='\"')\n",
    "resources_df = spark.read.csv(\"s3://donorchoose/Resources.csv\", header =True, inferSchema = True)\n",
    "schools_df = spark.read.csv(\"s3://donorchoose/Schools.csv\", header =True, inferSchema = True)"
   ]
  },
  {
   "cell_type": "code",
   "execution_count": 5,
   "metadata": {},
   "outputs": [
    {
     "data": {
      "application/vnd.jupyter.widget-view+json": {
       "model_id": "1e5b5b7b7d79483f8f7b0be645cb0a05",
       "version_major": 2,
       "version_minor": 0
      },
      "text/plain": [
       "VBox()"
      ]
     },
     "metadata": {},
     "output_type": "display_data"
    },
    {
     "data": {
      "application/vnd.jupyter.widget-view+json": {
       "model_id": "",
       "version_major": 2,
       "version_minor": 0
      },
      "text/plain": [
       "FloatProgress(value=0.0, bar_style='info', description='Progress:', layout=Layout(height='25px', width='50%'),…"
      ]
     },
     "metadata": {},
     "output_type": "display_data"
    }
   ],
   "source": [
    "#join all dataframes for future data exploration and feature engineering\n",
    "donor_donations = donations_df.join(donors_df, on = ['Donor ID'], how = 'inner')\n",
    "projects_schools = projects_df.join(schools_df, on = ['School ID'], how = 'inner')\n",
    "donor_projects = donor_donations.join(projects_schools, on = ['Project ID'], how = 'left')\n",
    "projects_teachers = donor_projects.join(teachers_df, on = ['Teacher ID'], how = 'inner')\n",
    "df = projects_teachers.join(resources_df, on = ['Project ID'], how = 'inner')"
   ]
  },
  {
   "cell_type": "code",
   "execution_count": 6,
   "metadata": {},
   "outputs": [
    {
     "data": {
      "application/vnd.jupyter.widget-view+json": {
       "model_id": "9f526c67737549b0b0dd947b8fc1886c",
       "version_major": 2,
       "version_minor": 0
      },
      "text/plain": [
       "VBox()"
      ]
     },
     "metadata": {},
     "output_type": "display_data"
    },
    {
     "data": {
      "application/vnd.jupyter.widget-view+json": {
       "model_id": "",
       "version_major": 2,
       "version_minor": 0
      },
      "text/plain": [
       "FloatProgress(value=0.0, bar_style='info', description='Progress:', layout=Layout(height='25px', width='50%'),…"
      ]
     },
     "metadata": {},
     "output_type": "display_data"
    }
   ],
   "source": [
    "#missing school cities were all Washington DC\n",
    "df = df.fillna({'School City':'DC'})"
   ]
  },
  {
   "cell_type": "code",
   "execution_count": 7,
   "metadata": {},
   "outputs": [
    {
     "data": {
      "application/vnd.jupyter.widget-view+json": {
       "model_id": "6f644c94c8fe47b9b019efc4cae7ace6",
       "version_major": 2,
       "version_minor": 0
      },
      "text/plain": [
       "VBox()"
      ]
     },
     "metadata": {},
     "output_type": "display_data"
    },
    {
     "data": {
      "application/vnd.jupyter.widget-view+json": {
       "model_id": "",
       "version_major": 2,
       "version_minor": 0
      },
      "text/plain": [
       "FloatProgress(value=0.0, bar_style='info', description='Progress:', layout=Layout(height='25px', width='50%'),…"
      ]
     },
     "metadata": {},
     "output_type": "display_data"
    }
   ],
   "source": [
    "#rename all df column names to remove spaces\n",
    "df_renamed = df.withColumnRenamed('Project ID', 'project_id').withColumnRenamed('Teacher ID', 'teacher_id')\\\n",
    ".withColumnRenamed('Donor ID', 'donor_id').withColumnRenamed('Donation ID', 'donation_id')\\\n",
    ".withColumnRenamed('Donation Included Optional Donation', 'optional_donation').withColumnRenamed('Donation Amount', 'donation_amount')\\\n",
    ".withColumnRenamed('Donor Cart Sequence', 'donor_cart_sequence').withColumnRenamed('Donation Received Date','donation_received_date')\\\n",
    ".withColumnRenamed('Donor City', 'donor_city').withColumnRenamed('Donor State', 'donor_state').withColumnRenamed('Donor Is Teacher', 'donor_is_teacher')\\\n",
    ".withColumnRenamed('Donor Zip', 'donor_zip').withColumnRenamed('School ID', 'school_id')\\\n",
    ".withColumnRenamed('Teacher Project Posted Sequence', 'teacher_project_posted_seq')\\\n",
    ".withColumnRenamed('Project ID', 'project_id').withColumnRenamed('Project Type', 'project_type')\\\n",
    ".withColumnRenamed('Project Title', 'project_title').withColumnRenamed('Project Subject Category Tree', 'project_cat')\\\n",
    ".withColumnRenamed('Project Subject Subcategory Tree', 'project_cat2').withColumnRenamed('Project Grade Level Category', 'project_grade_level_cat')\\\n",
    ".withColumnRenamed('Project Resource Category', 'project_resource_cat').withColumnRenamed('Project Cost', 'project_cost')\\\n",
    ".withColumnRenamed('Project Posted Date', 'project_posted_date').withColumnRenamed('Project Expiration Date', 'project_exp_date')\\\n",
    ".withColumnRenamed('Project Current Status', 'project_curr_stat').withColumnRenamed('Project Fully Funded Date', 'project_fully_funded_date')\\\n",
    ".withColumnRenamed('School Name', 'school_name').withColumnRenamed('School Metro Type', 'school_metro_type')\\\n",
    ".withColumnRenamed('School Percentage Free Lunch', 'school_percent_free_lunch').withColumnRenamed('School State', 'school_state')\\\n",
    ".withColumnRenamed('School Zip', 'school_zip').withColumnRenamed('School City', 'school_city').withColumnRenamed('School County', 'school_county')\\\n",
    ".withColumnRenamed('School District', 'school_district').withColumnRenamed('Teacher Prefix', 'teacher_prefix')\\\n",
    ".withColumnRenamed('Teacher First Project Posted Date', 'teacher_first_proj').withColumnRenamed('Resource Item Name', 'resource_item_name')\\\n",
    ".withColumnRenamed('Resource Quantity', 'resource_quantity').withColumnRenamed('Resource Unit Price', 'resource_unit_price')\\\n",
    ".withColumnRenamed('Resource Vendor Name', 'resource_vendor_name')"
   ]
  },
  {
   "cell_type": "code",
   "execution_count": 8,
   "metadata": {},
   "outputs": [
    {
     "data": {
      "application/vnd.jupyter.widget-view+json": {
       "model_id": "5fe48c23fb0f4142b76737cb4be4c6a8",
       "version_major": 2,
       "version_minor": 0
      },
      "text/plain": [
       "VBox()"
      ]
     },
     "metadata": {},
     "output_type": "display_data"
    },
    {
     "data": {
      "application/vnd.jupyter.widget-view+json": {
       "model_id": "",
       "version_major": 2,
       "version_minor": 0
      },
      "text/plain": [
       "FloatProgress(value=0.0, bar_style='info', description='Progress:', layout=Layout(height='25px', width='50%'),…"
      ]
     },
     "metadata": {},
     "output_type": "display_data"
    }
   ],
   "source": [
    "#cast timestamps to all time columns\n",
    "df_renamed = df_renamed.withColumn(\"donation_received_date\",to_date(unix_timestamp(col(\"donation_received_date\"), \"yyyy-MM-dd\").cast(\"timestamp\")))\n",
    "df_renamed = df_renamed.withColumn(\"project_posted_date\",to_date(unix_timestamp(col(\"project_posted_date\"), \"yyyy-MM-dd\").cast(\"timestamp\")))\n",
    "df_renamed = df_renamed.withColumn(\"project_exp_date\",to_date(unix_timestamp(col(\"project_exp_date\"), \"yyyy-MM-dd\").cast(\"timestamp\")))\n",
    "df_renamed = df_renamed.withColumn(\"project_fully_funded_date\",to_date(unix_timestamp(col(\"project_fully_funded_date\"), \"yyyy-MM-dd\").cast(\"timestamp\")))\n",
    "df_renamed = df_renamed.withColumn(\"teacher_first_proj\",to_date(unix_timestamp(col(\"teacher_first_proj\"), \"yyyy-MM-dd\").cast(\"timestamp\")))"
   ]
  },
  {
   "cell_type": "code",
   "execution_count": 9,
   "metadata": {},
   "outputs": [
    {
     "data": {
      "application/vnd.jupyter.widget-view+json": {
       "model_id": "b4886467921642138d7b6ccce6171a3c",
       "version_major": 2,
       "version_minor": 0
      },
      "text/plain": [
       "VBox()"
      ]
     },
     "metadata": {},
     "output_type": "display_data"
    },
    {
     "data": {
      "application/vnd.jupyter.widget-view+json": {
       "model_id": "",
       "version_major": 2,
       "version_minor": 0
      },
      "text/plain": [
       "FloatProgress(value=0.0, bar_style='info', description='Progress:', layout=Layout(height='25px', width='50%'),…"
      ]
     },
     "metadata": {},
     "output_type": "display_data"
    }
   ],
   "source": [
    "#create new datetime columns for future data exploration\n",
    "df_renamed = df_renamed.withColumn('teacher_date_exp_dif',datediff(df_renamed.project_exp_date.cast('date'),df_renamed.teacher_first_proj.cast('date')))\n",
    "df_renamed= df_renamed.withColumn('project_days',datediff(df_renamed.project_exp_date.cast('date'),df_renamed.project_posted_date.cast('date')))\n",
    "\n",
    "df_renamed = df_renamed.withColumn('post_date_day', date_format(col('project_posted_date'), \"E\"))\n",
    "df_renamed = df_renamed.withColumn('post_date_month', month(df_renamed['project_posted_date']))\n",
    "df_renamed = df_renamed.withColumn('post_date_year', year(df_renamed['project_posted_date']))\n",
    "\n",
    "df_renamed = df_renamed.withColumn('donation_day', date_format(col('donation_received_date'), \"E\"))\n",
    "df_renamed = df_renamed.withColumn('donation_month', month(df_renamed['donation_received_date']))\n",
    "df_renamed = df_renamed.withColumn('donation_year', year(df_renamed['donation_received_date']))\n",
    "\n",
    "df_renamed = df_renamed.withColumn('t_proj_post_day', date_format(col('teacher_first_proj'), \"E\"))\n",
    "df_renamed = df_renamed.withColumn('t_proj_post_month', month(df_renamed['teacher_first_proj']))\n",
    "df_renamed = df_renamed.withColumn('t_proj_post_year', year(df_renamed['teacher_first_proj']))\n"
   ]
  },
  {
   "cell_type": "code",
   "execution_count": 10,
   "metadata": {},
   "outputs": [
    {
     "data": {
      "application/vnd.jupyter.widget-view+json": {
       "model_id": "03448888a9b24c9396af57e9169efcef",
       "version_major": 2,
       "version_minor": 0
      },
      "text/plain": [
       "VBox()"
      ]
     },
     "metadata": {},
     "output_type": "display_data"
    },
    {
     "data": {
      "application/vnd.jupyter.widget-view+json": {
       "model_id": "",
       "version_major": 2,
       "version_minor": 0
      },
      "text/plain": [
       "FloatProgress(value=0.0, bar_style='info', description='Progress:', layout=Layout(height='25px', width='50%'),…"
      ]
     },
     "metadata": {},
     "output_type": "display_data"
    }
   ],
   "source": [
    "spark.sql(\"set spark.sql.legacy.timeParserPolicy=LEGACY\")\n",
    "#cast column types for ints and floats that weren't inferred at import\n",
    "\n",
    "df_renamed = df_renamed.withColumn('school_percent_free_lunch',df_renamed.school_percent_free_lunch.cast('float'))\n",
    "df_remamed = df_renamed.withColumn('donor_cart_sequence',df_renamed.donor_cart_sequence.cast('int'))\n",
    "df_renamed = df_renamed.withColumn('donation_amount',df_renamed.donation_amount.cast('float'))\n",
    "df_renamed = df_renamed.withColumn('teacher_project_posted_seq',df_renamed.teacher_project_posted_seq.cast('int'))\n",
    "df_renamed = df_renamed.withColumn('project_cost',df_renamed.project_cost.cast('float'))\n",
    "df_renamed = df_renamed.withColumn('resource_quantity',df_renamed.resource_quantity.cast('float'))\n",
    "df_renamed = df_renamed.withColumn('resource_unit_price',df_renamed.resource_unit_price.cast('float'))\n",
    "df_renamed = df_renamed.withColumn('resource_unit_price',df_renamed.resource_unit_price.cast('float'))"
   ]
  },
  {
   "cell_type": "markdown",
   "metadata": {},
   "source": [
    "### Modeling - Recommendation Engines"
   ]
  },
  {
   "cell_type": "code",
   "execution_count": 11,
   "metadata": {},
   "outputs": [
    {
     "data": {
      "application/vnd.jupyter.widget-view+json": {
       "model_id": "de4250c444c74c1391a44b277db9e695",
       "version_major": 2,
       "version_minor": 0
      },
      "text/plain": [
       "VBox()"
      ]
     },
     "metadata": {},
     "output_type": "display_data"
    },
    {
     "data": {
      "application/vnd.jupyter.widget-view+json": {
       "model_id": "",
       "version_major": 2,
       "version_minor": 0
      },
      "text/plain": [
       "FloatProgress(value=0.0, bar_style='info', description='Progress:', layout=Layout(height='25px', width='50%'),…"
      ]
     },
     "metadata": {},
     "output_type": "display_data"
    }
   ],
   "source": [
    "#import libraries for modeling\n",
    "import pyspark.sql.functions as sql_func\n",
    "from pyspark.sql.types import *\n",
    "from pyspark.ml.recommendation import ALS, ALSModel\n",
    "from pyspark.context import SparkContext\n",
    "from pyspark.sql.session import SparkSession\n",
    "from pyspark.mllib.evaluation import RegressionMetrics, RankingMetrics\n",
    "from pyspark.ml.evaluation import RegressionEvaluator\n",
    "from pyspark.sql.functions import monotonically_increasing_id\n",
    "from pyspark.ml.tuning import CrossValidator, ParamGridBuilder"
   ]
  },
  {
   "cell_type": "markdown",
   "metadata": {},
   "source": [
    "##### Pre-Processing Data"
   ]
  },
  {
   "cell_type": "code",
   "execution_count": 12,
   "metadata": {},
   "outputs": [
    {
     "data": {
      "application/vnd.jupyter.widget-view+json": {
       "model_id": "72e6c18c83c845a8879cd3b3f51d7818",
       "version_major": 2,
       "version_minor": 0
      },
      "text/plain": [
       "VBox()"
      ]
     },
     "metadata": {},
     "output_type": "display_data"
    },
    {
     "data": {
      "application/vnd.jupyter.widget-view+json": {
       "model_id": "",
       "version_major": 2,
       "version_minor": 0
      },
      "text/plain": [
       "FloatProgress(value=0.0, bar_style='info', description='Progress:', layout=Layout(height='25px', width='50%'),…"
      ]
     },
     "metadata": {},
     "output_type": "display_data"
    }
   ],
   "source": [
    "#create new table that will bring in donor_id, project_id, and donation amount per donor per project\n",
    "df3 = df_renamed.select(df_renamed['donor_id'], df_renamed['project_id'], df_renamed['donation_amount'])\n",
    "#sum the donation amount\n",
    "donor_project_table = df3.groupBy(\"donor_id\", \"project_id\").sum('donation_amount')\n",
    "#rename column to reflect sum of donation amount\n",
    "donor_project_table = donor_project_table.withColumnRenamed(\"sum(donation_amount)\", 'donation_sum')\n",
    "#find log values for all donation sums\n",
    "donor_project_table = donor_project_table.withColumn(\"donation_log\", log(\"donation_sum\"))\n",
    "\n",
    "#create new user table that will take distinct donor ID's and map them to an integer ID\n",
    "users = donor_project_table.select(\"donor_id\").distinct()\n",
    "users = users.coalesce(1)\n",
    "users = users.withColumn(\"user_int\", monotonically_increasing_id()).persist()\n",
    "\n",
    "#create new projects table that will take distinct project ID's and map them to an integer ID\n",
    "projects = donor_project_table.select(\"project_id\").distinct()\n",
    "projects = projects.coalesce(1)\n",
    "projects = projects.withColumn(\"project_int\", monotonically_increasing_id()).persist()\n",
    "\n",
    "#join the users and projects table back to the original table with donation sum and donation log\n",
    "prepped_df = donor_project_table.join(users, \"donor_id\", \"left\").join(projects, \"project_id\", \"left\")\n",
    "\n",
    "#create final table for modeling with only the new int donor ID, new int project ID and the donation log\n",
    "cfm_df = prepped_df.select(prepped_df[\"user_int\"], prepped_df[\"project_int\"], prepped_df[\"donation_log\"])\n",
    "cfm_df= cfm_df.withColumnRenamed('user_int', 'donor_int_ID').withColumnRenamed('project_int', 'project_int_id')"
   ]
  },
  {
   "cell_type": "code",
   "execution_count": 13,
   "metadata": {},
   "outputs": [
    {
     "data": {
      "application/vnd.jupyter.widget-view+json": {
       "model_id": "f6891920cab349848a4f81c16787cd7f",
       "version_major": 2,
       "version_minor": 0
      },
      "text/plain": [
       "VBox()"
      ]
     },
     "metadata": {},
     "output_type": "display_data"
    },
    {
     "data": {
      "application/vnd.jupyter.widget-view+json": {
       "model_id": "",
       "version_major": 2,
       "version_minor": 0
      },
      "text/plain": [
       "FloatProgress(value=0.0, bar_style='info', description='Progress:', layout=Layout(height='25px', width='50%'),…"
      ]
     },
     "metadata": {},
     "output_type": "display_data"
    }
   ],
   "source": [
    "#cast all columns to int to ensure they're all the correct format for ALS modeling\n",
    "cfm_df= cfm_df.withColumn('donor_int_ID', cfm_df.donor_int_ID.cast('int'))\n",
    "cfm_df= cfm_df.withColumn('project_int_id', cfm_df.project_int_id.cast('int'))\n",
    "cfm_df= cfm_df.withColumn('donation_log', cfm_df.donation_log.cast('int'))"
   ]
  },
  {
   "cell_type": "code",
   "execution_count": 14,
   "metadata": {},
   "outputs": [
    {
     "data": {
      "application/vnd.jupyter.widget-view+json": {
       "model_id": "04bf29e1b7b74db58210afff5ea723ee",
       "version_major": 2,
       "version_minor": 0
      },
      "text/plain": [
       "VBox()"
      ]
     },
     "metadata": {},
     "output_type": "display_data"
    },
    {
     "data": {
      "application/vnd.jupyter.widget-view+json": {
       "model_id": "",
       "version_major": 2,
       "version_minor": 0
      },
      "text/plain": [
       "FloatProgress(value=0.0, bar_style='info', description='Progress:', layout=Layout(height='25px', width='50%'),…"
      ]
     },
     "metadata": {},
     "output_type": "display_data"
    },
    {
     "name": "stdout",
     "output_type": "stream",
     "text": [
      "root\n",
      " |-- donor_int_ID: integer (nullable = true)\n",
      " |-- project_int_id: integer (nullable = true)\n",
      " |-- donation_log: integer (nullable = true)"
     ]
    }
   ],
   "source": [
    "#double check data types before modeling\n",
    "cfm_df.printSchema()"
   ]
  },
  {
   "cell_type": "code",
   "execution_count": 16,
   "metadata": {},
   "outputs": [
    {
     "data": {
      "application/vnd.jupyter.widget-view+json": {
       "model_id": "de3c3fe0726d4f3f848235768c1a6cd5",
       "version_major": 2,
       "version_minor": 0
      },
      "text/plain": [
       "VBox()"
      ]
     },
     "metadata": {},
     "output_type": "display_data"
    },
    {
     "data": {
      "application/vnd.jupyter.widget-view+json": {
       "model_id": "",
       "version_major": 2,
       "version_minor": 0
      },
      "text/plain": [
       "FloatProgress(value=0.0, bar_style='info', description='Progress:', layout=Layout(height='25px', width='50%'),…"
      ]
     },
     "metadata": {},
     "output_type": "display_data"
    },
    {
     "name": "stdout",
     "output_type": "stream",
     "text": [
      "+-----------------+-----------------+\n",
      "|min(donation_log)|max(donation_log)|\n",
      "+-----------------+-----------------+\n",
      "|               -4|               15|\n",
      "+-----------------+-----------------+"
     ]
    }
   ],
   "source": [
    "cfm_df.agg(min(col(\"donation_log\")), max(col(\"donation_log\"))).show()"
   ]
  },
  {
   "cell_type": "markdown",
   "metadata": {},
   "source": [
    "##### Alternating Least Squares (ALS) Model"
   ]
  },
  {
   "cell_type": "code",
   "execution_count": 15,
   "metadata": {},
   "outputs": [
    {
     "data": {
      "application/vnd.jupyter.widget-view+json": {
       "model_id": "d6f1aee35512425eb0a5ca93f6a700e8",
       "version_major": 2,
       "version_minor": 0
      },
      "text/plain": [
       "VBox()"
      ]
     },
     "metadata": {},
     "output_type": "display_data"
    },
    {
     "data": {
      "application/vnd.jupyter.widget-view+json": {
       "model_id": "",
       "version_major": 2,
       "version_minor": 0
      },
      "text/plain": [
       "FloatProgress(value=0.0, bar_style='info', description='Progress:', layout=Layout(height='25px', width='50%'),…"
      ]
     },
     "metadata": {},
     "output_type": "display_data"
    }
   ],
   "source": [
    "#random split\n",
    "training, testing = cfm_df.randomSplit([0.6, 0.4])\n",
    "\n",
    "#create base ALS model\n",
    "als = ALS(userCol=\"donor_int_ID\", itemCol=\"project_int_id\", ratingCol=\"donation_log\", coldStartStrategy=\"drop\", nonnegative = True, implicitPrefs = False)"
   ]
  },
  {
   "cell_type": "code",
   "execution_count": 16,
   "metadata": {},
   "outputs": [
    {
     "data": {
      "application/vnd.jupyter.widget-view+json": {
       "model_id": "296031ac16b34acf8b98b257b7eb4c54",
       "version_major": 2,
       "version_minor": 0
      },
      "text/plain": [
       "VBox()"
      ]
     },
     "metadata": {},
     "output_type": "display_data"
    },
    {
     "data": {
      "application/vnd.jupyter.widget-view+json": {
       "model_id": "",
       "version_major": 2,
       "version_minor": 0
      },
      "text/plain": [
       "FloatProgress(value=0.0, bar_style='info', description='Progress:', layout=Layout(height='25px', width='50%'),…"
      ]
     },
     "metadata": {},
     "output_type": "display_data"
    }
   ],
   "source": [
    "#fit model to training data\n",
    "model = als.fit(training)\n",
    "\n",
    "#fit model to testing data\n",
    "predictions = model.transform(testing)"
   ]
  },
  {
   "cell_type": "code",
   "execution_count": 17,
   "metadata": {},
   "outputs": [
    {
     "data": {
      "application/vnd.jupyter.widget-view+json": {
       "model_id": "ea198c9c85d54103a31f580b8f18f018",
       "version_major": 2,
       "version_minor": 0
      },
      "text/plain": [
       "VBox()"
      ]
     },
     "metadata": {},
     "output_type": "display_data"
    },
    {
     "data": {
      "application/vnd.jupyter.widget-view+json": {
       "model_id": "",
       "version_major": 2,
       "version_minor": 0
      },
      "text/plain": [
       "FloatProgress(value=0.0, bar_style='info', description='Progress:', layout=Layout(height='25px', width='50%'),…"
      ]
     },
     "metadata": {},
     "output_type": "display_data"
    }
   ],
   "source": [
    "#create evaluator\n",
    "evaluator = RegressionEvaluator(metricName = \"rmse\", labelCol = 'donation_log', predictionCol = \"prediction\")"
   ]
  },
  {
   "cell_type": "code",
   "execution_count": 18,
   "metadata": {},
   "outputs": [
    {
     "data": {
      "application/vnd.jupyter.widget-view+json": {
       "model_id": "dc5f7763114e43a7a6810a2ac44acd80",
       "version_major": 2,
       "version_minor": 0
      },
      "text/plain": [
       "VBox()"
      ]
     },
     "metadata": {},
     "output_type": "display_data"
    },
    {
     "data": {
      "application/vnd.jupyter.widget-view+json": {
       "model_id": "",
       "version_major": 2,
       "version_minor": 0
      },
      "text/plain": [
       "FloatProgress(value=0.0, bar_style='info', description='Progress:', layout=Layout(height='25px', width='50%'),…"
      ]
     },
     "metadata": {},
     "output_type": "display_data"
    },
    {
     "name": "stdout",
     "output_type": "stream",
     "text": [
      "1.9441559327012328"
     ]
    }
   ],
   "source": [
    "#run evaluator on base model predictions - testing dataset, find initial RMSE\n",
    "RMSE = evaluator.evaluate(predictions)\n",
    "print(RMSE)"
   ]
  },
  {
   "cell_type": "code",
   "execution_count": 19,
   "metadata": {},
   "outputs": [
    {
     "data": {
      "application/vnd.jupyter.widget-view+json": {
       "model_id": "38206509982546718da8b22bf67c11b3",
       "version_major": 2,
       "version_minor": 0
      },
      "text/plain": [
       "VBox()"
      ]
     },
     "metadata": {},
     "output_type": "display_data"
    },
    {
     "data": {
      "application/vnd.jupyter.widget-view+json": {
       "model_id": "",
       "version_major": 2,
       "version_minor": 0
      },
      "text/plain": [
       "FloatProgress(value=0.0, bar_style='info', description='Progress:', layout=Layout(height='25px', width='50%'),…"
      ]
     },
     "metadata": {},
     "output_type": "display_data"
    }
   ],
   "source": [
    "#create param builder\n",
    "paramGrid = ParamGridBuilder() \\\n",
    "    .addGrid(als.rank, [15])\\\n",
    "    .build()\n",
    "\n",
    "#build cross validator\n",
    "cv = CrossValidator(estimator=als, estimatorParamMaps = paramGrid,\n",
    "                   evaluator = evaluator,\n",
    "                   numFolds = 5)"
   ]
  },
  {
   "cell_type": "code",
   "execution_count": 20,
   "metadata": {},
   "outputs": [
    {
     "data": {
      "application/vnd.jupyter.widget-view+json": {
       "model_id": "2a2413114acc4a3d96411da03259df93",
       "version_major": 2,
       "version_minor": 0
      },
      "text/plain": [
       "VBox()"
      ]
     },
     "metadata": {},
     "output_type": "display_data"
    },
    {
     "data": {
      "application/vnd.jupyter.widget-view+json": {
       "model_id": "",
       "version_major": 2,
       "version_minor": 0
      },
      "text/plain": [
       "FloatProgress(value=0.0, bar_style='info', description='Progress:', layout=Layout(height='25px', width='50%'),…"
      ]
     },
     "metadata": {},
     "output_type": "display_data"
    }
   ],
   "source": [
    "#fit training data to cross validator\n",
    "model = cv.fit(training)"
   ]
  },
  {
   "cell_type": "code",
   "execution_count": 21,
   "metadata": {},
   "outputs": [
    {
     "data": {
      "application/vnd.jupyter.widget-view+json": {
       "model_id": "c40693eb84ed46e3ad0057f2545dd9f2",
       "version_major": 2,
       "version_minor": 0
      },
      "text/plain": [
       "VBox()"
      ]
     },
     "metadata": {},
     "output_type": "display_data"
    },
    {
     "data": {
      "application/vnd.jupyter.widget-view+json": {
       "model_id": "",
       "version_major": 2,
       "version_minor": 0
      },
      "text/plain": [
       "FloatProgress(value=0.0, bar_style='info', description='Progress:', layout=Layout(height='25px', width='50%'),…"
      ]
     },
     "metadata": {},
     "output_type": "display_data"
    },
    {
     "name": "stdout",
     "output_type": "stream",
     "text": [
      "Best Model\n",
      "RMSE:  1.9401127004230694\n",
      "Rank:  15"
     ]
    }
   ],
   "source": [
    "#determine best parameters based off of cross validator\n",
    "best_model = model.bestModel\n",
    "predictions = best_model.transform(testing)\n",
    "rmse = evaluator.evaluate(predictions)\n",
    "\n",
    "print(\"Best Model\")\n",
    "print(\"RMSE: \", rmse)\n",
    "print(\"Rank: \", best_model.rank)\n"
   ]
  },
  {
   "cell_type": "code",
   "execution_count": 30,
   "metadata": {},
   "outputs": [
    {
     "data": {
      "application/vnd.jupyter.widget-view+json": {
       "model_id": "706ca88c0a3a4da2ac0294a379a3b080",
       "version_major": 2,
       "version_minor": 0
      },
      "text/plain": [
       "VBox()"
      ]
     },
     "metadata": {},
     "output_type": "display_data"
    },
    {
     "data": {
      "application/vnd.jupyter.widget-view+json": {
       "model_id": "",
       "version_major": 2,
       "version_minor": 0
      },
      "text/plain": [
       "FloatProgress(value=0.0, bar_style='info', description='Progress:', layout=Layout(height='25px', width='50%'),…"
      ]
     },
     "metadata": {},
     "output_type": "display_data"
    }
   ],
   "source": [
    "#create base ALS model\n",
    "als = ALS(userCol=\"donor_int_ID\", itemCol=\"project_int_id\", ratingCol=\"donation_log\", coldStartStrategy=\"drop\", nonnegative = True, implicitPrefs = False, rank = 15)"
   ]
  },
  {
   "cell_type": "code",
   "execution_count": 31,
   "metadata": {},
   "outputs": [
    {
     "data": {
      "application/vnd.jupyter.widget-view+json": {
       "model_id": "19b65d56ae4e4880b1d845cea32d99f4",
       "version_major": 2,
       "version_minor": 0
      },
      "text/plain": [
       "VBox()"
      ]
     },
     "metadata": {},
     "output_type": "display_data"
    },
    {
     "data": {
      "application/vnd.jupyter.widget-view+json": {
       "model_id": "",
       "version_major": 2,
       "version_minor": 0
      },
      "text/plain": [
       "FloatProgress(value=0.0, bar_style='info', description='Progress:', layout=Layout(height='25px', width='50%'),…"
      ]
     },
     "metadata": {},
     "output_type": "display_data"
    }
   ],
   "source": [
    "#fit model to training data\n",
    "model = als.fit(training)\n",
    "\n",
    "#fit model to testing data\n",
    "predictions = model.transform(testing)"
   ]
  },
  {
   "cell_type": "code",
   "execution_count": 33,
   "metadata": {},
   "outputs": [
    {
     "data": {
      "application/vnd.jupyter.widget-view+json": {
       "model_id": "b3bc72c689784f2ea5c38a0c1e6afc0d",
       "version_major": 2,
       "version_minor": 0
      },
      "text/plain": [
       "VBox()"
      ]
     },
     "metadata": {},
     "output_type": "display_data"
    },
    {
     "name": "stderr",
     "output_type": "stream",
     "text": [
      "An error was encountered:\n",
      "Session 1 did not reach idle status in time. Current status is busy.\n"
     ]
    }
   ],
   "source": [
    "cfm_df.agg(min(col(\"donation_log\")), max(col(\"donation_log\")).show()"
   ]
  },
  {
   "cell_type": "code",
   "execution_count": null,
   "metadata": {},
   "outputs": [],
   "source": []
  }
 ],
 "metadata": {
  "kernelspec": {
   "display_name": "PySpark",
   "language": "",
   "name": "pysparkkernel"
  },
  "language_info": {
   "codemirror_mode": {
    "name": "python",
    "version": 2
   },
   "mimetype": "text/x-python",
   "name": "pyspark",
   "pygments_lexer": "python2"
  }
 },
 "nbformat": 4,
 "nbformat_minor": 4
}
